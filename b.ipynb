{
 "cells": [
  {
   "cell_type": "code",
   "execution_count": 7,
   "metadata": {},
   "outputs": [],
   "source": [
    "import json\n",
    "import mysql.connector\n",
    "\n",
    "db_connection = mysql.connector.connect(\n",
    "    host=\"localhost\",\n",
    "    user=\"root\",\n",
    "    password=\"5353\",\n",
    "    database=\"chatbottt\",\n",
    "    charset=\"utf8\"  # Türkçe karakter desteği için karakter setini belirtin\n",
    ")\n",
    "cursor = db_connection.cursor()\n",
    "\n",
    "def json_to_database(json_file):\n",
    "    with open(json_file, 'r', encoding='utf-8') as file:\n",
    "        data = json.load(file)\n",
    "        for item in data:\n",
    "            soru = item.get('Soru', '')\n",
    "            cevap = item.get('Cevap', '')  # json.dumps() kullanmıyoruz\n",
    "            cursor.execute(\"INSERT INTO sorular (soru, cevap) VALUES (%s, %s)\", (soru, cevap))\n",
    "    db_connection.commit()\n",
    "\n",
    "json_file = 'start.json'\n",
    "\n",
    "json_to_database(json_file)\n",
    "\n",
    "cursor.close()\n",
    "db_connection.close()"
   ]
  },
  {
   "cell_type": "code",
   "execution_count": null,
   "metadata": {},
   "outputs": [],
   "source": []
  }
 ],
 "metadata": {
  "kernelspec": {
   "display_name": "Python 3",
   "language": "python",
   "name": "python3"
  },
  "language_info": {
   "codemirror_mode": {
    "name": "ipython",
    "version": 3
   },
   "file_extension": ".py",
   "mimetype": "text/x-python",
   "name": "python",
   "nbconvert_exporter": "python",
   "pygments_lexer": "ipython3",
   "version": "3.12.0"
  }
 },
 "nbformat": 4,
 "nbformat_minor": 2
}
